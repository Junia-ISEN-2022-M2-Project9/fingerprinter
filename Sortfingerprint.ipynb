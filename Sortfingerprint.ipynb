{
 "cells": [
  {
   "cell_type": "code",
   "execution_count": 73,
   "id": "19123d56",
   "metadata": {},
   "outputs": [],
   "source": [
    "import sys\n",
    "\n",
    "from hfinger.analysis import hfinger_analyze\n",
    "\n",
    "import numpy as np\n",
    "import matplotlib.pyplot as plt\n",
    "from scipy.cluster.hierarchy import dendrogram\n",
    "from sklearn.cluster import AgglomerativeClustering\n",
    "from difflib import SequenceMatcher\n",
    "import jellyfish"
   ]
  },
  {
   "cell_type": "code",
   "execution_count": 74,
   "id": "6c241dad",
   "metadata": {},
   "outputs": [],
   "source": [
    "# Fonction de calcul de distance avec sequenceMatcher\n",
    "\n",
    "def distance(f1,f2):\n",
    "    return(1-SequenceMatcher(None,f1,f2).ratio()) # isjunk=None (no element ignored), .ratio give float between [0,1]"
   ]
  },
  {
   "cell_type": "code",
   "execution_count": 28,
   "id": "39def07d",
   "metadata": {},
   "outputs": [],
   "source": [
    "# Fonction de calcul de distance avec levenshtein\n",
    "def distance(f1,f2):\n",
    "    return(jellyfish.levenshtein_distance(f1,f2))\n"
   ]
  },
  {
   "cell_type": "code",
   "execution_count": 15,
   "id": "be62fdc1",
   "metadata": {},
   "outputs": [],
   "source": [
    "#to use jaro distance\n",
    "def distance(f1,f2):\n",
    "    return(jellyfish.jaro_similarity(f1,f2))"
   ]
  },
  {
   "cell_type": "code",
   "execution_count": 5,
   "id": "a334f73e",
   "metadata": {},
   "outputs": [],
   "source": [
    "#Use damerau levenstein distance\n",
    "def distance(f1,f2):\n",
    "    return(jellyfish.damerau_levenshtein_distance(f1,f2))"
   ]
  },
  {
   "cell_type": "code",
   "execution_count": 75,
   "id": "9f46984c",
   "metadata": {},
   "outputs": [],
   "source": [
    "# Fonction d'affichage du dendogramme\n",
    "def plot_dendrogram(model, **kwargs):\n",
    "\n",
    "    # create the counts of samples under each node\n",
    "    counts = np.zeros(model.children_.shape[0])\n",
    "    n_samples = len(model.labels_)\n",
    "    for i, merge in enumerate(model.children_):\n",
    "        current_count = 0\n",
    "        for child_idx in merge:\n",
    "            if child_idx < n_samples:\n",
    "                current_count += 1  # leaf node\n",
    "            else:\n",
    "                current_count += counts[child_idx - n_samples]\n",
    "                counts[i] = current_count\n",
    "\n",
    "                linkage_matrix = np.column_stack(\n",
    "                [model.children_, model.distances_, counts]\n",
    "                ).astype(float)\n",
    "\n",
    "                # Plot the corresponding dendrogram\n",
    "                dendrogram(linkage_matrix, **kwargs)"
   ]
  },
  {
   "cell_type": "code",
   "execution_count": null,
   "id": "cfdf0feb",
   "metadata": {},
   "outputs": [],
   "source": [
    "# Formatage des empreintes\n",
    "listOfFingerprints=[]\n",
    "listWithAllTaggedFingerprints=[]\n",
    "\n",
    "# Attention remplacer liste_Arguments par sys.argv si en dehors de Jupiter\n",
    "liste_Arguments = [\"blabla\",\"GlobeImposter\",\"legitimeFirefox\",\"legitimeSafari\"]\n",
    "\n",
    "for z in liste_Arguments[1:]:\n",
    "    filePath = \"files/\"+z\n",
    "    with open(filePath, \"r\") as file:\n",
    "        listOfFingerprintsInFile = []\n",
    "        for i in file:\n",
    "            fp = i.split(\"|\")\n",
    "            fp = list(map(lambda x : x if x != '' else 0, fp))\n",
    "            fp.pop()\n",
    "            fp = \"|\".join(str(v) for v in fp)\n",
    "            listOfFingerprintsInFile.append(fp)\n",
    "    listOfFingerprints.extend(listOfFingerprintsInFile)\n",
    "    listWithAllTaggedFingerprints.extend([[y, filePath] for y in listOfFingerprintsInFile])\n",
    "    \n",
    "\n",
    "# Création de la matrice de distances\n",
    "listDistances=[] # Chaque liste contient l'ensemble des distances par rapport a une empreinte.\n",
    "for fingerprint in listOfFingerprints:\n",
    "    listOfDist=[]\n",
    "    for fingerprint2 in listOfFingerprints:\n",
    "        listOfDist.append(distance(fingerprint,fingerprint2))                    \n",
    "    listDistances.append(listOfDist)"
   ]
  },
  {
   "cell_type": "code",
   "execution_count": null,
   "id": "41b5d7b8",
   "metadata": {},
   "outputs": [],
   "source": [
    "# Création du modèle\n",
    "model = AgglomerativeClustering(distance_threshold=None, n_clusters=3) # n_cluster= number of cluster to find, if not none distance must be none. \n",
    "model = model.fit(listDistances) \n",
    "\n",
    "\n",
    "\n",
    "#print(model.n_clusters_)\n",
    "#print(model.labels_)\n",
    "for k in range(model.n_clusters_):\n",
    "    print(\"\\ncluster number \"+str(k))\n",
    "    for p in range(len(listOfFingerprints)):\n",
    "        if model.labels_[p]==k:\n",
    "            print(listOfFingerprints[p]+' '+listWithAllTaggedFingerprints[p][1])"
   ]
  },
  {
   "cell_type": "code",
   "execution_count": null,
   "id": "40f4a3f0",
   "metadata": {},
   "outputs": [],
   "source": [
    "# Affichage\n",
    "plt.title(\"Dendogramme de Regroupement Hierarchique\")\n",
    "#plot_dendrogram(model, truncate_mode=\"level\", p=10) # plot the top ten levels of the dendrogram\n",
    "plt.xlabel(\"Nombre de points dans un noeud (ou index de point s'il n'y a pas de parenthèse)\")\n",
    "plt.ylabel(\"Distance entre les clusters\")\n",
    "#plt.show()"
   ]
  },
  {
   "cell_type": "code",
   "execution_count": null,
   "id": "4fada2f5",
   "metadata": {},
   "outputs": [],
   "source": []
  }
 ],
 "metadata": {
  "kernelspec": {
   "display_name": "Python 3 (ipykernel)",
   "language": "python",
   "name": "python3"
  },
  "language_info": {
   "codemirror_mode": {
    "name": "ipython",
    "version": 3
   },
   "file_extension": ".py",
   "mimetype": "text/x-python",
   "name": "python",
   "nbconvert_exporter": "python",
   "pygments_lexer": "ipython3",
   "version": "3.10.2"
  }
 },
 "nbformat": 4,
 "nbformat_minor": 5
}
