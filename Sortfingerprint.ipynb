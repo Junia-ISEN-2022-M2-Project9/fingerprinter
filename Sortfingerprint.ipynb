{
 "cells": [
  {
   "cell_type": "code",
   "execution_count": 1,
   "id": "d18eabc9",
   "metadata": {},
   "outputs": [],
   "source": [
    "import sys\n",
    "import numpy as np\n",
    "import matplotlib.pyplot as plt\n",
    "from scipy.cluster.hierarchy import dendrogram\n",
    "from sklearn.cluster import AgglomerativeClustering\n",
    "from difflib import SequenceMatcher\n",
    "import jellyfish"
   ]
  },
  {
   "cell_type": "code",
   "execution_count": 2,
   "id": "4627adf6",
   "metadata": {},
   "outputs": [],
   "source": [
    "# Fonction de calcul de distance avec sequenceMatcher\n",
    "\n",
    "def distance(f1,f2):\n",
    "    return(1-SequenceMatcher(None,f1,f2).ratio()) # isjunk=None (no element ignored), .ratio give float between [0,1]"
   ]
  },
  {
   "cell_type": "code",
   "execution_count": 3,
   "id": "14d7d2a8",
   "metadata": {},
   "outputs": [],
   "source": [
    "# Fonction de calcul de distance avec levenshtein\n",
    "def distance(f1,f2):\n",
    "    return(jellyfish.levenshtein_distance(f1,f2))\n"
   ]
  },
  {
   "cell_type": "code",
   "execution_count": 4,
   "id": "c93f443a",
   "metadata": {},
   "outputs": [],
   "source": [
    "#to use jaro distance\n",
    "def distance(f1,f2):\n",
    "    return(jellyfish.jaro_distance(f1,f2))\n"
   ]
  },
  {
   "cell_type": "code",
   "execution_count": 5,
   "id": "aa24b137",
   "metadata": {},
   "outputs": [],
   "source": [
    "#Use damerau levenstein distance\n",
    "def distance(f1,f2):\n",
    "    return(jellyfish.damerau_levenshtein_distance(f1,f2))"
   ]
  },
  {
   "cell_type": "code",
   "execution_count": 6,
   "id": "42eff378",
   "metadata": {},
   "outputs": [],
   "source": [
    "# Fonction d'affichage du dendogramme\n",
    "def plot_dendrogram(model, **kwargs):\n",
    "\n",
    "    # create the counts of samples under each node\n",
    "    counts = np.zeros(model.children_.shape[0])\n",
    "    n_samples = len(model.labels_)\n",
    "    for i, merge in enumerate(model.children_):\n",
    "        current_count = 0\n",
    "        for child_idx in merge:\n",
    "            if child_idx < n_samples:\n",
    "                current_count += 1  # leaf node\n",
    "            else:\n",
    "                current_count += counts[child_idx - n_samples]\n",
    "                counts[i] = current_count\n",
    "\n",
    "                linkage_matrix = np.column_stack(\n",
    "                [model.children_, model.distances_, counts]\n",
    "                ).astype(float)\n",
    "\n",
    "                # Plot the corresponding dendrogram\n",
    "                dendrogram(linkage_matrix, **kwargs)"
   ]
  },
  {
   "cell_type": "code",
   "execution_count": 9,
   "id": "0bd56dd8",
   "metadata": {},
   "outputs": [
    {
     "ename": "FileNotFoundError",
     "evalue": "[Errno 2] No such file or directory: '-f'",
     "output_type": "error",
     "traceback": [
      "\u001b[0;31m---------------------------------------------------------------------------\u001b[0m",
      "\u001b[0;31mFileNotFoundError\u001b[0m                         Traceback (most recent call last)",
      "Input \u001b[0;32mIn [9]\u001b[0m, in \u001b[0;36m<cell line: 4>\u001b[0;34m()\u001b[0m\n\u001b[1;32m      4\u001b[0m \u001b[38;5;28;01mfor\u001b[39;00m z \u001b[38;5;129;01min\u001b[39;00m \u001b[38;5;28mrange\u001b[39m(\u001b[38;5;28mlen\u001b[39m(sys\u001b[38;5;241m.\u001b[39margv)\u001b[38;5;241m-\u001b[39m\u001b[38;5;241m1\u001b[39m):\n\u001b[1;32m      5\u001b[0m     filePath \u001b[38;5;241m=\u001b[39m sys\u001b[38;5;241m.\u001b[39margv[z\u001b[38;5;241m+\u001b[39m\u001b[38;5;241m1\u001b[39m]\n\u001b[0;32m----> 6\u001b[0m     \u001b[38;5;28;01mwith\u001b[39;00m \u001b[38;5;28;43mopen\u001b[39;49m\u001b[43m(\u001b[49m\u001b[43mfilePath\u001b[49m\u001b[43m,\u001b[49m\u001b[43m \u001b[49m\u001b[38;5;124;43m\"\u001b[39;49m\u001b[38;5;124;43mr\u001b[39;49m\u001b[38;5;124;43m\"\u001b[39;49m\u001b[43m)\u001b[49m \u001b[38;5;28;01mas\u001b[39;00m file:\n\u001b[1;32m      7\u001b[0m         listOfFingerprintsInFile \u001b[38;5;241m=\u001b[39m [line\u001b[38;5;241m.\u001b[39mreplace(\u001b[38;5;124m'\u001b[39m\u001b[38;5;130;01m\\n\u001b[39;00m\u001b[38;5;124m'\u001b[39m, \u001b[38;5;124m'\u001b[39m\u001b[38;5;124m'\u001b[39m) \u001b[38;5;28;01mfor\u001b[39;00m line \u001b[38;5;129;01min\u001b[39;00m file]\n\u001b[1;32m      8\u001b[0m         \u001b[38;5;66;03m#listOfFingerprints.append(line.replace('\\n','')) #retire le retour a la ligne a la fin des fingerprints\u001b[39;00m\n",
      "\u001b[0;31mFileNotFoundError\u001b[0m: [Errno 2] No such file or directory: '-f'"
     ]
    }
   ],
   "source": [
    "# Formatage des empreintes\n",
    "listOfFingerprints=[]\n",
    "listWithAllTaggedFingerprints=[]\n",
    "for z in range(len(sys.argv)-1):\n",
    "    filePath = sys.argv[z+1]\n",
    "    with open(filePath, \"r\") as file:\n",
    "        listOfFingerprintsInFile = [line.replace('\\n', '') for line in file]\n",
    "        #listOfFingerprints.append(line.replace('\\n','')) #retire le retour a la ligne a la fin des fingerprints\n",
    "        listOfFingerprintsInFile=list(set(listOfFingerprintsInFile)) # retire les doublons\n",
    "        listOfFingerprintsInFile2=[]\n",
    "        for y in range(len(listOfFingerprintsInFile)):\n",
    "            listOfFingerprintsInFile2.append([listOfFingerprintsInFile[y],filePath])\n",
    "    listOfFingerprints.extend(listOfFingerprintsInFile)\n",
    "    listWithAllTaggedFingerprints.extend(listOfFingerprintsInFile2)\n",
    "\n",
    "\n",
    "# Création de la matrice de distances\n",
    "listDistances=[] # Chaque liste contient l'ensemble des distances par rapport a une empreinte.\n",
    "for fingerprint in listOfFingerprints:\n",
    "    listOfDist=[]\n",
    "    for fingerprint2 in listOfFingerprints:\n",
    "        listOfDist.append(distance(fingerprint,fingerprint2))                    \n",
    "    listDistances.append(listOfDist)\n",
    "\n",
    "\n",
    "# Création du modèle\n",
    "model = AgglomerativeClustering(distance_threshold=None, n_clusters=3) # n_cluster= number of cluster to find, if not none distance must be none. \n",
    "model = model.fit(listDistances) \n",
    "\n",
    "\n",
    "# Affichage\n",
    "plt.title(\"Dendogramme de Regroupement Hierarchique\")\n",
    "#plot_dendrogram(model, truncate_mode=\"level\", p=10) # plot the top ten levels of the dendrogram\n",
    "plt.xlabel(\"Nombre de points dans un noeud (ou index de point s'il n'y a pas de parenthèse)\")\n",
    "plt.ylabel(\"Distance entre les clusters\")\n",
    "#plt.show()\n",
    "#print(model.n_clusters_)\n",
    "#print(model.labels_)\n",
    "for k in range(model.n_clusters_):\n",
    "    print(\"\\ncluster number \"+str(k))\n",
    "    for p in range(len(listOfFingerprints)):\n",
    "        if model.labels_[p]==k:\n",
    "            print(listOfFingerprints[p]+' '+listWithAllTaggedFingerprints[p][1])"
   ]
  },
  {
   "cell_type": "code",
   "execution_count": null,
   "id": "79682ba1",
   "metadata": {},
   "outputs": [],
   "source": []
  }
 ],
 "metadata": {
  "kernelspec": {
   "display_name": "Python 3 (ipykernel)",
   "language": "python",
   "name": "python3"
  },
  "language_info": {
   "codemirror_mode": {
    "name": "ipython",
    "version": 3
   },
   "file_extension": ".py",
   "mimetype": "text/x-python",
   "name": "python",
   "nbconvert_exporter": "python",
   "pygments_lexer": "ipython3",
   "version": "3.9.2"
  }
 },
 "nbformat": 4,
 "nbformat_minor": 5
}
